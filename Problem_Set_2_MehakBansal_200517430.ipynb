{
 "cells": [
  {
   "cell_type": "markdown",
   "id": "c8e2f5b7",
   "metadata": {},
   "source": [
    "# Question 1:"
   ]
  },
  {
   "cell_type": "code",
   "execution_count": 1,
   "id": "102c4b12",
   "metadata": {},
   "outputs": [],
   "source": [
    "a=0\n",
    "def b():\n",
    "    global a\n",
    "    a= c(a)\n",
    "def c(a):\n",
    "    return a+2"
   ]
  },
  {
   "cell_type": "code",
   "execution_count": 2,
   "id": "2defd2fa",
   "metadata": {},
   "outputs": [],
   "source": [
    "b() "
   ]
  },
  {
   "cell_type": "markdown",
   "id": "acede5aa",
   "metadata": {},
   "source": [
    "When function b() is called, then value of global a changes from 0 to 2 because of the other function c(a) which returns value a+2 = 0+2 = 2. So value of global a becomes 2."
   ]
  },
  {
   "cell_type": "code",
   "execution_count": 3,
   "id": "a3250bca",
   "metadata": {},
   "outputs": [],
   "source": [
    "b()"
   ]
  },
  {
   "cell_type": "markdown",
   "id": "c53b3a95",
   "metadata": {},
   "source": [
    "Before calling function b() again, a=2 now. After calling function b(), a becomes 4 in the similar manner."
   ]
  },
  {
   "cell_type": "code",
   "execution_count": 4,
   "id": "48682753",
   "metadata": {},
   "outputs": [],
   "source": [
    "b()"
   ]
  },
  {
   "cell_type": "markdown",
   "id": "9d15d225",
   "metadata": {},
   "source": [
    "Here, a became 2+2+2 = 6. So, when a would be executed it's value would be 6"
   ]
  },
  {
   "cell_type": "code",
   "execution_count": 5,
   "id": "6ea6f84e",
   "metadata": {},
   "outputs": [
    {
     "data": {
      "text/plain": [
       "6"
      ]
     },
     "execution_count": 5,
     "metadata": {},
     "output_type": "execute_result"
    }
   ],
   "source": [
    "a"
   ]
  },
  {
   "cell_type": "markdown",
   "id": "c0d7e494",
   "metadata": {},
   "source": [
    "Value displayed when last expression (a) is executed = 6"
   ]
  },
  {
   "cell_type": "markdown",
   "id": "f5257b02",
   "metadata": {},
   "source": [
    "# Question 2:"
   ]
  },
  {
   "cell_type": "code",
   "execution_count": 6,
   "id": "cda6979d",
   "metadata": {},
   "outputs": [],
   "source": [
    "def file_length(file_name):\n",
    "    try:\n",
    "        file = open(file_name)\n",
    "        contents = file.read()\n",
    "        file.close()\n",
    "        print(len(contents))\n",
    "    except:\n",
    "        print(\"File \"+ file_name +\" Not Found\")"
   ]
  },
  {
   "cell_type": "code",
   "execution_count": 7,
   "id": "59a2d44a",
   "metadata": {},
   "outputs": [
    {
     "name": "stdout",
     "output_type": "stream",
     "text": [
      "File idterm.py Not Found\n"
     ]
    }
   ],
   "source": [
    "file_length('idterm.py')"
   ]
  },
  {
   "cell_type": "markdown",
   "id": "18741c14",
   "metadata": {},
   "source": [
    "# Question 3:"
   ]
  },
  {
   "cell_type": "code",
   "execution_count": 8,
   "id": "40aa5bd6",
   "metadata": {},
   "outputs": [],
   "source": [
    "class Marsupial():\n",
    "    def __init__(self):\n",
    "        self.pouch = []\n",
    "    def put_in_pouch(self,thing):\n",
    "        return self.pouch.append(thing)\n",
    "    def pouch_contents(self):\n",
    "        return self.pouch"
   ]
  },
  {
   "cell_type": "code",
   "execution_count": 9,
   "id": "b13f7e58",
   "metadata": {},
   "outputs": [],
   "source": [
    "m = Marsupial()"
   ]
  },
  {
   "cell_type": "code",
   "execution_count": 10,
   "id": "a4bea1d9",
   "metadata": {},
   "outputs": [],
   "source": [
    "m.put_in_pouch('doll')\n",
    "m.put_in_pouch('firetruck')\n",
    "m.put_in_pouch('kitten')"
   ]
  },
  {
   "cell_type": "code",
   "execution_count": 11,
   "id": "dfe4358e",
   "metadata": {},
   "outputs": [
    {
     "data": {
      "text/plain": [
       "['doll', 'firetruck', 'kitten']"
      ]
     },
     "execution_count": 11,
     "metadata": {},
     "output_type": "execute_result"
    }
   ],
   "source": [
    "m.pouch_contents()"
   ]
  },
  {
   "cell_type": "code",
   "execution_count": 12,
   "id": "ef3c42e8",
   "metadata": {},
   "outputs": [],
   "source": [
    "class Kangaroo(Marsupial):\n",
    "    def __init__(self, x_coordinate, y_coordinate):\n",
    "        self.pouch = []\n",
    "        self.x = x_coordinate\n",
    "        self.y = y_coordinate\n",
    "    def jump(self,dx,dy):\n",
    "        self.x += dx\n",
    "        self.y += dy\n",
    "    def __str__(self):\n",
    "        return (\" I am a kangaroo located at coordinates \"+ \"(\" + str(self.x) + \",\" + str(self.y) + \")\")\n",
    "        "
   ]
  },
  {
   "cell_type": "code",
   "execution_count": 13,
   "id": "810438f2",
   "metadata": {},
   "outputs": [],
   "source": [
    "m = Marsupial()"
   ]
  },
  {
   "cell_type": "code",
   "execution_count": 14,
   "id": "8a2de203",
   "metadata": {},
   "outputs": [],
   "source": [
    "k=Kangaroo(0,0)"
   ]
  },
  {
   "cell_type": "code",
   "execution_count": 15,
   "id": "20b79d6b",
   "metadata": {},
   "outputs": [
    {
     "name": "stdout",
     "output_type": "stream",
     "text": [
      " I am a kangaroo located at coordinates (0,0)\n"
     ]
    }
   ],
   "source": [
    "print(k)"
   ]
  },
  {
   "cell_type": "code",
   "execution_count": 16,
   "id": "818e47c6",
   "metadata": {},
   "outputs": [],
   "source": [
    "m.put_in_pouch('doll')\n",
    "m.put_in_pouch('firetruck')\n",
    "m.put_in_pouch('kitten')"
   ]
  },
  {
   "cell_type": "code",
   "execution_count": 17,
   "id": "153c1acd",
   "metadata": {},
   "outputs": [
    {
     "data": {
      "text/plain": [
       "['doll', 'firetruck', 'kitten']"
      ]
     },
     "execution_count": 17,
     "metadata": {},
     "output_type": "execute_result"
    }
   ],
   "source": [
    "m.pouch_contents()"
   ]
  },
  {
   "cell_type": "code",
   "execution_count": 18,
   "id": "725e486d",
   "metadata": {},
   "outputs": [],
   "source": [
    "k.jump(1,0)"
   ]
  },
  {
   "cell_type": "code",
   "execution_count": 19,
   "id": "84320e85",
   "metadata": {},
   "outputs": [],
   "source": [
    "k.jump(1,0)"
   ]
  },
  {
   "cell_type": "code",
   "execution_count": 20,
   "id": "676dbfc3",
   "metadata": {},
   "outputs": [],
   "source": [
    "k.jump(1,0)"
   ]
  },
  {
   "cell_type": "code",
   "execution_count": 21,
   "id": "a2620c8c",
   "metadata": {},
   "outputs": [
    {
     "name": "stdout",
     "output_type": "stream",
     "text": [
      " I am a kangaroo located at coordinates (3,0)\n"
     ]
    }
   ],
   "source": [
    "print(k)"
   ]
  },
  {
   "cell_type": "markdown",
   "id": "d7588661",
   "metadata": {},
   "source": [
    "# Question 4:"
   ]
  },
  {
   "cell_type": "code",
   "execution_count": 22,
   "id": "bf7c1a99",
   "metadata": {},
   "outputs": [],
   "source": [
    "def collatz(x):\n",
    "    if(type(x) == int and x > 0):\n",
    "        if x > 1:\n",
    "            if(x % 2 == 0):\n",
    "                print(x)\n",
    "                x = x/2\n",
    "                x = int(x)\n",
    "                collatz(x)\n",
    "            else:\n",
    "                print(x)\n",
    "                x = (3*x)+1\n",
    "                x = int(x)\n",
    "                collatz(x)\n",
    "        else: \n",
    "            print(x)\n",
    "    else:\n",
    "        return str(x) +\" is not a positive integer. \" +\" Please Enter a non-negative integer\""
   ]
  },
  {
   "cell_type": "code",
   "execution_count": 23,
   "id": "a6b22e4d",
   "metadata": {},
   "outputs": [
    {
     "data": {
      "text/plain": [
       "'-5 is not a positive integer.  Please Enter a non-negative integer'"
      ]
     },
     "execution_count": 23,
     "metadata": {},
     "output_type": "execute_result"
    }
   ],
   "source": [
    "collatz(-5)"
   ]
  },
  {
   "cell_type": "code",
   "execution_count": 24,
   "id": "9db2ff78",
   "metadata": {},
   "outputs": [
    {
     "name": "stdout",
     "output_type": "stream",
     "text": [
      "1\n"
     ]
    }
   ],
   "source": [
    "collatz(1)"
   ]
  },
  {
   "cell_type": "code",
   "execution_count": 25,
   "id": "e55baae1",
   "metadata": {},
   "outputs": [
    {
     "name": "stdout",
     "output_type": "stream",
     "text": [
      "10\n",
      "5\n",
      "16\n",
      "8\n",
      "4\n",
      "2\n",
      "1\n"
     ]
    }
   ],
   "source": [
    "collatz(10)"
   ]
  },
  {
   "cell_type": "markdown",
   "id": "a6e32fa2",
   "metadata": {},
   "source": [
    "# Question 5:"
   ]
  },
  {
   "cell_type": "code",
   "execution_count": 26,
   "id": "bc0b241a",
   "metadata": {},
   "outputs": [],
   "source": [
    "def binary(entry):\n",
    "    if type(entry == int):\n",
    "        if (entry != 0):\n",
    "            binary(entry//2)\n",
    "            print(entry%2, end = \" \")\n",
    "        else:\n",
    "            return 0\n",
    "    else:\n",
    "        print(\"Please enter a non-negative integer \\'n\\'. \")      "
   ]
  },
  {
   "cell_type": "code",
   "execution_count": 27,
   "id": "48cee9f8",
   "metadata": {},
   "outputs": [
    {
     "data": {
      "text/plain": [
       "0"
      ]
     },
     "execution_count": 27,
     "metadata": {},
     "output_type": "execute_result"
    }
   ],
   "source": [
    "binary(0)"
   ]
  },
  {
   "cell_type": "code",
   "execution_count": 28,
   "id": "63429ac8",
   "metadata": {},
   "outputs": [
    {
     "name": "stdout",
     "output_type": "stream",
     "text": [
      "1 "
     ]
    }
   ],
   "source": [
    "binary(1)"
   ]
  },
  {
   "cell_type": "code",
   "execution_count": 29,
   "id": "c5374a4a",
   "metadata": {},
   "outputs": [
    {
     "name": "stdout",
     "output_type": "stream",
     "text": [
      "1 1 "
     ]
    }
   ],
   "source": [
    "binary(3)"
   ]
  },
  {
   "cell_type": "code",
   "execution_count": 30,
   "id": "0037cddf",
   "metadata": {},
   "outputs": [
    {
     "name": "stdout",
     "output_type": "stream",
     "text": [
      "1 0 0 1 "
     ]
    }
   ],
   "source": [
    "binary(9)"
   ]
  },
  {
   "cell_type": "markdown",
   "id": "fb1b72d9",
   "metadata": {},
   "source": [
    "# Question 6:"
   ]
  },
  {
   "cell_type": "code",
   "execution_count": 31,
   "id": "45e813c9",
   "metadata": {},
   "outputs": [],
   "source": [
    "from html.parser import HTMLParser\n",
    "class HeadingParser(HTMLParser): \n",
    "    \n",
    "    def __init__(self):\n",
    "        HTMLParser.__init__(self)\n",
    "        self.Headerr = ''\n",
    "    \n",
    "    def handle_Start_Tag(self, tag, attrs):\n",
    "        if tag in ['h1','h2','h3','h4','h5']:\n",
    "            self.Headerr = tag\n",
    "    \n",
    "    def handle_Data_(self, attrs):\n",
    "        if self.Headerr in ['h1','h2','h3','h4','h5']:\n",
    "            self.Headerr = list(self.Headerr)\n",
    "            _indent_ = (int(self.Headerr[1])-1) * ' ' \n",
    "            print()\n",
    "            print(_indent_ + attrs)"
   ]
  },
  {
   "cell_type": "code",
   "execution_count": 62,
   "id": "438c5b15",
   "metadata": {},
   "outputs": [],
   "source": [
    "infile = open('w3c.html')\n",
    "content = infile.read()\n",
    "infile.close()\n",
    "hp = HeadingParser()\n",
    "hp.feed(content)"
   ]
  },
  {
   "cell_type": "markdown",
   "id": "9dec57cc",
   "metadata": {},
   "source": [
    "# Question 7:"
   ]
  },
  {
   "cell_type": "code",
   "execution_count": 33,
   "id": "86e13862",
   "metadata": {},
   "outputs": [
    {
     "name": "stdout",
     "output_type": "stream",
     "text": [
      "\n",
      "http://reed.cs.depaul.edu/lperkovic/test1.html\n",
      "\n",
      "http://reed.cs.depaul.edu/lperkovic/test2.html\n"
     ]
    }
   ],
   "source": [
    "# from urllib.request import urlopen\n",
    "# from urllib.parse import urljoin\n",
    "import requests\n",
    "from bs4 import BeautifulSoup   \n",
    "\n",
    "def webdir(_url_, _depth_, _indent_):\n",
    "    x = requests.get(_url_)\n",
    "    print()\n",
    "    print(_url_)\n",
    "#     if _indent_ == 0:\n",
    "#         print(_url_)\n",
    "#         else:\n",
    "#         print(_indent_*' ',_url_)\n",
    "    \n",
    "    if(_depth_ == _indent_):\n",
    "        return\n",
    "    y = BeautifulSoup(x.text, 'html.parser')\n",
    "        \n",
    "    for the_link in y.findAll('a'):\n",
    "        z = the_link.get('href')\n",
    "        if(z.startswith('http')):\n",
    "            webdir(z, _depth_, _indent_+1)\n",
    "            \n",
    "webdir('http://reed.cs.depaul.edu/lperkovic/test1.html', 2, 0)"
   ]
  },
  {
   "cell_type": "markdown",
   "id": "9e4b2697",
   "metadata": {},
   "source": [
    "# Qustion 8:"
   ]
  },
  {
   "cell_type": "code",
   "execution_count": 34,
   "id": "f38df18c",
   "metadata": {},
   "outputs": [
    {
     "data": {
      "text/plain": [
       "'Connected: @None'"
      ]
     },
     "execution_count": 34,
     "metadata": {},
     "output_type": "execute_result"
    }
   ],
   "source": [
    "%load_ext sql\n",
    "%sql sqlite://"
   ]
  },
  {
   "cell_type": "code",
   "execution_count": 35,
   "id": "5ef92e01",
   "metadata": {},
   "outputs": [
    {
     "name": "stdout",
     "output_type": "stream",
     "text": [
      " * sqlite://\n",
      "Done.\n",
      "12 rows affected.\n"
     ]
    },
    {
     "data": {
      "text/plain": [
       "[]"
      ]
     },
     "execution_count": 35,
     "metadata": {},
     "output_type": "execute_result"
    }
   ],
   "source": [
    "%%sql\n",
    "CREATE TABLE DETAILS\n",
    "(\n",
    "    City        varchar(20),\n",
    "    Country     varchar(20),\n",
    "    Season      varchar(7),\n",
    "    Temperature_C float,\n",
    "    Rainfall_mm    float\n",
    ");\n",
    "\n",
    "INSERT INTO DETAILS\n",
    "\n",
    "VALUES ('Mumbai', 'India', 'Winter', 24.8, 5.9),\n",
    "       ('Mumbai', 'India', 'Spring', 28.4, 16.2),\n",
    "       ('Mumbai', 'India', 'Summer', 27.9, 1549.4),\n",
    "       ('Mumbai', 'India', 'Fall', 27.6, 346.0),\n",
    "       ('London', 'United Kingdom', 'Winter', 4.2, 207.7),\n",
    "       ('London', 'United Kingdom', 'Spring', 8.3, 169.6),\n",
    "       ('London', 'United Kingdom', 'Summer', 15.7, 157.0),\n",
    "       ('London', 'United Kingdom', 'Fall', 10.4, 218.5),\n",
    "       ('Cairo', 'Egypt', 'Winter', 13.6, 16.5),\n",
    "       ('Cairo', 'Egypt', 'Spring', 20.7, 6.5),\n",
    "       ('Cairo', 'Egypt', 'Summer', 27.7, 0.1),\n",
    "       ('Cairo', 'Egypt', 'Fall', 22.2, 4.5);"
   ]
  },
  {
   "cell_type": "markdown",
   "id": "f07df088",
   "metadata": {},
   "source": [
    "(a)"
   ]
  },
  {
   "cell_type": "code",
   "execution_count": 36,
   "id": "0b9fc749",
   "metadata": {},
   "outputs": [
    {
     "name": "stdout",
     "output_type": "stream",
     "text": [
      " * sqlite://\n",
      "Done.\n"
     ]
    },
    {
     "data": {
      "text/html": [
       "<table>\n",
       "    <thead>\n",
       "        <tr>\n",
       "            <th>Temperature_C</th>\n",
       "        </tr>\n",
       "    </thead>\n",
       "    <tbody>\n",
       "        <tr>\n",
       "            <td>24.8</td>\n",
       "        </tr>\n",
       "        <tr>\n",
       "            <td>28.4</td>\n",
       "        </tr>\n",
       "        <tr>\n",
       "            <td>27.9</td>\n",
       "        </tr>\n",
       "        <tr>\n",
       "            <td>27.6</td>\n",
       "        </tr>\n",
       "        <tr>\n",
       "            <td>4.2</td>\n",
       "        </tr>\n",
       "        <tr>\n",
       "            <td>8.3</td>\n",
       "        </tr>\n",
       "        <tr>\n",
       "            <td>15.7</td>\n",
       "        </tr>\n",
       "        <tr>\n",
       "            <td>10.4</td>\n",
       "        </tr>\n",
       "        <tr>\n",
       "            <td>13.6</td>\n",
       "        </tr>\n",
       "        <tr>\n",
       "            <td>20.7</td>\n",
       "        </tr>\n",
       "        <tr>\n",
       "            <td>27.7</td>\n",
       "        </tr>\n",
       "        <tr>\n",
       "            <td>22.2</td>\n",
       "        </tr>\n",
       "    </tbody>\n",
       "</table>"
      ],
      "text/plain": [
       "[(24.8,),\n",
       " (28.4,),\n",
       " (27.9,),\n",
       " (27.6,),\n",
       " (4.2,),\n",
       " (8.3,),\n",
       " (15.7,),\n",
       " (10.4,),\n",
       " (13.6,),\n",
       " (20.7,),\n",
       " (27.7,),\n",
       " (22.2,)]"
      ]
     },
     "execution_count": 36,
     "metadata": {},
     "output_type": "execute_result"
    }
   ],
   "source": [
    "%%sql\n",
    "SELECT Temperature_C FROM DETAILS"
   ]
  },
  {
   "cell_type": "markdown",
   "id": "e0ed7a24",
   "metadata": {},
   "source": [
    "(b)"
   ]
  },
  {
   "cell_type": "code",
   "execution_count": 37,
   "id": "027de491",
   "metadata": {},
   "outputs": [
    {
     "name": "stdout",
     "output_type": "stream",
     "text": [
      " * sqlite://\n",
      "Done.\n"
     ]
    },
    {
     "data": {
      "text/html": [
       "<table>\n",
       "    <thead>\n",
       "        <tr>\n",
       "            <th>City</th>\n",
       "        </tr>\n",
       "    </thead>\n",
       "    <tbody>\n",
       "        <tr>\n",
       "            <td>Mumbai</td>\n",
       "        </tr>\n",
       "        <tr>\n",
       "            <td>London</td>\n",
       "        </tr>\n",
       "        <tr>\n",
       "            <td>Cairo</td>\n",
       "        </tr>\n",
       "    </tbody>\n",
       "</table>"
      ],
      "text/plain": [
       "[('Mumbai',), ('London',), ('Cairo',)]"
      ]
     },
     "execution_count": 37,
     "metadata": {},
     "output_type": "execute_result"
    }
   ],
   "source": [
    "%%sql\n",
    "SELECT DISTINCT City FROM DETAILS"
   ]
  },
  {
   "cell_type": "markdown",
   "id": "17ee5416",
   "metadata": {},
   "source": [
    "(c)"
   ]
  },
  {
   "cell_type": "code",
   "execution_count": 38,
   "id": "b971a1d2",
   "metadata": {},
   "outputs": [
    {
     "name": "stdout",
     "output_type": "stream",
     "text": [
      " * sqlite://\n",
      "Done.\n"
     ]
    },
    {
     "data": {
      "text/html": [
       "<table>\n",
       "    <thead>\n",
       "        <tr>\n",
       "            <th>City</th>\n",
       "            <th>Country</th>\n",
       "            <th>Season</th>\n",
       "            <th>Temperature_C</th>\n",
       "            <th>Rainfall_mm</th>\n",
       "        </tr>\n",
       "    </thead>\n",
       "    <tbody>\n",
       "        <tr>\n",
       "            <td>Mumbai</td>\n",
       "            <td>India</td>\n",
       "            <td>Winter</td>\n",
       "            <td>24.8</td>\n",
       "            <td>5.9</td>\n",
       "        </tr>\n",
       "        <tr>\n",
       "            <td>Mumbai</td>\n",
       "            <td>India</td>\n",
       "            <td>Spring</td>\n",
       "            <td>28.4</td>\n",
       "            <td>16.2</td>\n",
       "        </tr>\n",
       "        <tr>\n",
       "            <td>Mumbai</td>\n",
       "            <td>India</td>\n",
       "            <td>Summer</td>\n",
       "            <td>27.9</td>\n",
       "            <td>1549.4</td>\n",
       "        </tr>\n",
       "        <tr>\n",
       "            <td>Mumbai</td>\n",
       "            <td>India</td>\n",
       "            <td>Fall</td>\n",
       "            <td>27.6</td>\n",
       "            <td>346.0</td>\n",
       "        </tr>\n",
       "    </tbody>\n",
       "</table>"
      ],
      "text/plain": [
       "[('Mumbai', 'India', 'Winter', 24.8, 5.9),\n",
       " ('Mumbai', 'India', 'Spring', 28.4, 16.2),\n",
       " ('Mumbai', 'India', 'Summer', 27.9, 1549.4),\n",
       " ('Mumbai', 'India', 'Fall', 27.6, 346.0)]"
      ]
     },
     "execution_count": 38,
     "metadata": {},
     "output_type": "execute_result"
    }
   ],
   "source": [
    "%%sql\n",
    "SELECT * FROM DETAILS\n",
    "WHERE Country = 'India'"
   ]
  },
  {
   "cell_type": "markdown",
   "id": "c189d8fb",
   "metadata": {},
   "source": [
    "(d)"
   ]
  },
  {
   "cell_type": "code",
   "execution_count": 39,
   "id": "f0a766f9",
   "metadata": {},
   "outputs": [
    {
     "name": "stdout",
     "output_type": "stream",
     "text": [
      " * sqlite://\n",
      "Done.\n"
     ]
    },
    {
     "data": {
      "text/html": [
       "<table>\n",
       "    <thead>\n",
       "        <tr>\n",
       "            <th>City</th>\n",
       "            <th>Country</th>\n",
       "            <th>Season</th>\n",
       "            <th>Temperature_C</th>\n",
       "            <th>Rainfall_mm</th>\n",
       "        </tr>\n",
       "    </thead>\n",
       "    <tbody>\n",
       "        <tr>\n",
       "            <td>Mumbai</td>\n",
       "            <td>India</td>\n",
       "            <td>Fall</td>\n",
       "            <td>27.6</td>\n",
       "            <td>346.0</td>\n",
       "        </tr>\n",
       "        <tr>\n",
       "            <td>London</td>\n",
       "            <td>United Kingdom</td>\n",
       "            <td>Fall</td>\n",
       "            <td>10.4</td>\n",
       "            <td>218.5</td>\n",
       "        </tr>\n",
       "        <tr>\n",
       "            <td>Cairo</td>\n",
       "            <td>Egypt</td>\n",
       "            <td>Fall</td>\n",
       "            <td>22.2</td>\n",
       "            <td>4.5</td>\n",
       "        </tr>\n",
       "    </tbody>\n",
       "</table>"
      ],
      "text/plain": [
       "[('Mumbai', 'India', 'Fall', 27.6, 346.0),\n",
       " ('London', 'United Kingdom', 'Fall', 10.4, 218.5),\n",
       " ('Cairo', 'Egypt', 'Fall', 22.2, 4.5)]"
      ]
     },
     "execution_count": 39,
     "metadata": {},
     "output_type": "execute_result"
    }
   ],
   "source": [
    "%%sql\n",
    "SELECT * FROM DETAILS\n",
    "WHERE Season = 'Fall'"
   ]
  },
  {
   "cell_type": "markdown",
   "id": "bd9a9e4e",
   "metadata": {},
   "source": [
    "(e)"
   ]
  },
  {
   "cell_type": "code",
   "execution_count": 40,
   "id": "77ade304",
   "metadata": {},
   "outputs": [
    {
     "name": "stdout",
     "output_type": "stream",
     "text": [
      " * sqlite://\n",
      "Done.\n"
     ]
    },
    {
     "data": {
      "text/html": [
       "<table>\n",
       "    <thead>\n",
       "        <tr>\n",
       "            <th>City</th>\n",
       "            <th>Country</th>\n",
       "            <th>Season</th>\n",
       "        </tr>\n",
       "    </thead>\n",
       "    <tbody>\n",
       "        <tr>\n",
       "            <td>Mumbai</td>\n",
       "            <td>India</td>\n",
       "            <td>Fall</td>\n",
       "        </tr>\n",
       "        <tr>\n",
       "            <td>London</td>\n",
       "            <td>United Kingdom</td>\n",
       "            <td>Winter</td>\n",
       "        </tr>\n",
       "        <tr>\n",
       "            <td>London</td>\n",
       "            <td>United Kingdom</td>\n",
       "            <td>Fall</td>\n",
       "        </tr>\n",
       "    </tbody>\n",
       "</table>"
      ],
      "text/plain": [
       "[('Mumbai', 'India', 'Fall'),\n",
       " ('London', 'United Kingdom', 'Winter'),\n",
       " ('London', 'United Kingdom', 'Fall')]"
      ]
     },
     "execution_count": 40,
     "metadata": {},
     "output_type": "execute_result"
    }
   ],
   "source": [
    "%%sql\n",
    "SELECT City, Country, Season FROM DETAILS\n",
    "WHERE Rainfall_mm Between 200 AND 400"
   ]
  },
  {
   "cell_type": "markdown",
   "id": "784548af",
   "metadata": {},
   "source": [
    "(f)"
   ]
  },
  {
   "cell_type": "code",
   "execution_count": 41,
   "id": "47c820a9",
   "metadata": {},
   "outputs": [
    {
     "name": "stdout",
     "output_type": "stream",
     "text": [
      " * sqlite://\n",
      "Done.\n"
     ]
    },
    {
     "data": {
      "text/html": [
       "<table>\n",
       "    <thead>\n",
       "        <tr>\n",
       "            <th>City</th>\n",
       "            <th>Country</th>\n",
       "        </tr>\n",
       "    </thead>\n",
       "    <tbody>\n",
       "        <tr>\n",
       "            <td>Cairo</td>\n",
       "            <td>Egypt</td>\n",
       "        </tr>\n",
       "        <tr>\n",
       "            <td>Mumbai</td>\n",
       "            <td>India</td>\n",
       "        </tr>\n",
       "    </tbody>\n",
       "</table>"
      ],
      "text/plain": [
       "[('Cairo', 'Egypt'), ('Mumbai', 'India')]"
      ]
     },
     "execution_count": 41,
     "metadata": {},
     "output_type": "execute_result"
    }
   ],
   "source": [
    "%%sql\n",
    "SELECT City, Country FROM DETAILS\n",
    "WHERE Season = 'Fall' AND Temperature_C > 20 \n",
    "ORDER BY Temperature_C ASC"
   ]
  },
  {
   "cell_type": "markdown",
   "id": "53e351e2",
   "metadata": {},
   "source": [
    "(g)"
   ]
  },
  {
   "cell_type": "code",
   "execution_count": 42,
   "id": "6a92ad9f",
   "metadata": {},
   "outputs": [
    {
     "name": "stdout",
     "output_type": "stream",
     "text": [
      " * sqlite://\n",
      "Done.\n"
     ]
    },
    {
     "data": {
      "text/html": [
       "<table>\n",
       "    <thead>\n",
       "        <tr>\n",
       "            <th>SUM(Rainfall_mm)</th>\n",
       "        </tr>\n",
       "    </thead>\n",
       "    <tbody>\n",
       "        <tr>\n",
       "            <td>27.6</td>\n",
       "        </tr>\n",
       "    </tbody>\n",
       "</table>"
      ],
      "text/plain": [
       "[(27.6,)]"
      ]
     },
     "execution_count": 42,
     "metadata": {},
     "output_type": "execute_result"
    }
   ],
   "source": [
    "%%sql\n",
    "SELECT SUM(Rainfall_mm) FROM DETAILS \n",
    "WHERE City = 'Cairo'"
   ]
  },
  {
   "cell_type": "markdown",
   "id": "caa944b6",
   "metadata": {},
   "source": [
    "(h)"
   ]
  },
  {
   "cell_type": "code",
   "execution_count": 43,
   "id": "0744accb",
   "metadata": {},
   "outputs": [
    {
     "name": "stdout",
     "output_type": "stream",
     "text": [
      " * sqlite://\n",
      "Done.\n"
     ]
    },
    {
     "data": {
      "text/html": [
       "<table>\n",
       "    <thead>\n",
       "        <tr>\n",
       "            <th>SUM(Rainfall_mm)</th>\n",
       "        </tr>\n",
       "    </thead>\n",
       "    <tbody>\n",
       "        <tr>\n",
       "            <td>230.1</td>\n",
       "        </tr>\n",
       "    </tbody>\n",
       "</table>"
      ],
      "text/plain": [
       "[(230.1,)]"
      ]
     },
     "execution_count": 43,
     "metadata": {},
     "output_type": "execute_result"
    }
   ],
   "source": [
    "%%sql\n",
    "SELECT SUM(Rainfall_mm) FROM DETAILS \n",
    "WHERE Season = 'Winter'"
   ]
  },
  {
   "cell_type": "code",
   "execution_count": 44,
   "id": "63d63653",
   "metadata": {},
   "outputs": [
    {
     "name": "stdout",
     "output_type": "stream",
     "text": [
      " * sqlite://\n",
      "Done.\n"
     ]
    },
    {
     "data": {
      "text/html": [
       "<table>\n",
       "    <thead>\n",
       "        <tr>\n",
       "            <th>SUM(Rainfall_mm)</th>\n",
       "        </tr>\n",
       "    </thead>\n",
       "    <tbody>\n",
       "        <tr>\n",
       "            <td>1706.5</td>\n",
       "        </tr>\n",
       "    </tbody>\n",
       "</table>"
      ],
      "text/plain": [
       "[(1706.5,)]"
      ]
     },
     "execution_count": 44,
     "metadata": {},
     "output_type": "execute_result"
    }
   ],
   "source": [
    "%%sql\n",
    "SELECT SUM(Rainfall_mm) FROM DETAILS \n",
    "WHERE Season = 'Summer'"
   ]
  },
  {
   "cell_type": "code",
   "execution_count": 45,
   "id": "593fdadd",
   "metadata": {},
   "outputs": [
    {
     "name": "stdout",
     "output_type": "stream",
     "text": [
      " * sqlite://\n",
      "Done.\n"
     ]
    },
    {
     "data": {
      "text/html": [
       "<table>\n",
       "    <thead>\n",
       "        <tr>\n",
       "            <th>SUM(Rainfall_mm)</th>\n",
       "        </tr>\n",
       "    </thead>\n",
       "    <tbody>\n",
       "        <tr>\n",
       "            <td>569.0</td>\n",
       "        </tr>\n",
       "    </tbody>\n",
       "</table>"
      ],
      "text/plain": [
       "[(569.0,)]"
      ]
     },
     "execution_count": 45,
     "metadata": {},
     "output_type": "execute_result"
    }
   ],
   "source": [
    "%%sql\n",
    "SELECT SUM(Rainfall_mm) FROM DETAILS \n",
    "WHERE Season = 'Fall'"
   ]
  },
  {
   "cell_type": "markdown",
   "id": "08d6ed8f",
   "metadata": {},
   "source": [
    "# Question 9:"
   ]
  },
  {
   "cell_type": "code",
   "execution_count": 46,
   "id": "2ef9c6c0",
   "metadata": {},
   "outputs": [],
   "source": [
    "words= ['The','quick','brown','fox','jumps','over','the','lazy','dog']"
   ]
  },
  {
   "cell_type": "markdown",
   "id": "6826bc16",
   "metadata": {},
   "source": [
    "(a)"
   ]
  },
  {
   "cell_type": "code",
   "execution_count": 47,
   "id": "8567a639",
   "metadata": {},
   "outputs": [
    {
     "name": "stdout",
     "output_type": "stream",
     "text": [
      "['THE', 'QUICK', 'BROWN', 'FOX', 'JUMPS', 'OVER', 'THE', 'LAZY', 'DOG']\n"
     ]
    }
   ],
   "source": [
    "words_a = [k.upper() for k in words]\n",
    "print(words_a)"
   ]
  },
  {
   "cell_type": "markdown",
   "id": "361be98d",
   "metadata": {},
   "source": [
    "(b)"
   ]
  },
  {
   "cell_type": "code",
   "execution_count": 48,
   "id": "4d7023df",
   "metadata": {},
   "outputs": [
    {
     "name": "stdout",
     "output_type": "stream",
     "text": [
      "['the', 'quick', 'brown', 'fox', 'jumps', 'over', 'the', 'lazy', 'dog']\n"
     ]
    }
   ],
   "source": [
    "words_b = [k.lower() for k in words]\n",
    "print(words_b)"
   ]
  },
  {
   "cell_type": "markdown",
   "id": "36b7150f",
   "metadata": {},
   "source": [
    "(c)"
   ]
  },
  {
   "cell_type": "code",
   "execution_count": 49,
   "id": "155c2fed",
   "metadata": {},
   "outputs": [
    {
     "name": "stdout",
     "output_type": "stream",
     "text": [
      "[3, 5, 5, 3, 5, 4, 3, 4, 3]\n"
     ]
    }
   ],
   "source": [
    "words_c = [len(k) for k in words]\n",
    "print(words_c)"
   ]
  },
  {
   "cell_type": "markdown",
   "id": "a7e198cb",
   "metadata": {},
   "source": [
    "(d)"
   ]
  },
  {
   "cell_type": "code",
   "execution_count": 50,
   "id": "396f2efe",
   "metadata": {},
   "outputs": [
    {
     "name": "stdout",
     "output_type": "stream",
     "text": [
      "[['THE', 'the', 3], ['QUICK', 'quick', 5], ['BROWN', 'brown', 5], ['FOX', 'fox', 3], ['JUMPS', 'jumps', 5], ['OVER', 'over', 4], ['THE', 'the', 3], ['LAZY', 'lazy', 4], ['DOG', 'dog', 3]]\n"
     ]
    }
   ],
   "source": [
    "words_d = [[k.upper(),k.lower(),len(k)] for k in words]\n",
    "print(words_d)"
   ]
  },
  {
   "cell_type": "markdown",
   "id": "f220dfa4",
   "metadata": {},
   "source": [
    "(e)"
   ]
  },
  {
   "cell_type": "code",
   "execution_count": 51,
   "id": "54bff6f7",
   "metadata": {},
   "outputs": [
    {
     "name": "stdout",
     "output_type": "stream",
     "text": [
      "['quick', 'brown', 'jumps', 'over', 'lazy']\n"
     ]
    }
   ],
   "source": [
    "words_e = [k for k in words if len(k) >= 4]\n",
    "print(words_e)"
   ]
  },
  {
   "cell_type": "code",
   "execution_count": null,
   "id": "9829605a",
   "metadata": {},
   "outputs": [],
   "source": []
  }
 ],
 "metadata": {
  "kernelspec": {
   "display_name": "Python 3 (ipykernel)",
   "language": "python",
   "name": "python3"
  },
  "language_info": {
   "codemirror_mode": {
    "name": "ipython",
    "version": 3
   },
   "file_extension": ".py",
   "mimetype": "text/x-python",
   "name": "python",
   "nbconvert_exporter": "python",
   "pygments_lexer": "ipython3",
   "version": "3.9.12"
  }
 },
 "nbformat": 4,
 "nbformat_minor": 5
}
